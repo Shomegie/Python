{
 "cells": [
  {
   "cell_type": "markdown",
   "id": "61b5665f",
   "metadata": {},
   "source": [
    "### Recursion Practice"
   ]
  },
  {
   "cell_type": "code",
   "execution_count": 2,
   "id": "b299c12d",
   "metadata": {},
   "outputs": [
    {
     "name": "stdout",
     "output_type": "stream",
     "text": [
      "120\n"
     ]
    }
   ],
   "source": [
    "def factorial(x):\n",
    "    if x == 0:\n",
    "        return 1\n",
    "    return x * factorial(x-1)\n",
    "\n"
   ]
  },
  {
   "cell_type": "code",
   "execution_count": 11,
   "id": "8d233332",
   "metadata": {},
   "outputs": [
    {
     "data": {
      "text/plain": [
       "55"
      ]
     },
     "execution_count": 11,
     "metadata": {},
     "output_type": "execute_result"
    }
   ],
   "source": [
    "# 0, 1, 1, 2, 3, 5, 8\n",
    "\n",
    "def fibbers(x):\n",
    "    if x == 0:\n",
    "        return 0\n",
    "    if x == 1:\n",
    "        return 1\n",
    "    \n",
    "    return fibbers(x-1) + fibbers(x-2)\n",
    "\n",
    "\n",
    "fibbers(10)\n",
    "    \n",
    "    "
   ]
  },
  {
   "cell_type": "code",
   "execution_count": 27,
   "id": "6cd77d98",
   "metadata": {},
   "outputs": [
    {
     "name": "stdout",
     "output_type": "stream",
     "text": [
      "sheep\n",
      "sheep\n",
      "sheep\n",
      "sheep\n",
      "sheep\n"
     ]
    }
   ],
   "source": [
    "def print_x_times(x):\n",
    "    if x >= 1:\n",
    "        print(\"sheep\")\n",
    "        print_x_times(x-1)\n",
    "    \n",
    "print_x_times(5)\n",
    "    \n",
    "    \n",
    "    \n",
    "    \n",
    "    "
   ]
  },
  {
   "cell_type": "markdown",
   "id": "b4c7f60f",
   "metadata": {},
   "source": [
    "### Recursive Palindrome"
   ]
  },
  {
   "cell_type": "code",
   "execution_count": 46,
   "id": "6bbd21c6",
   "metadata": {},
   "outputs": [
    {
     "name": "stdout",
     "output_type": "stream",
     "text": [
      "True\n"
     ]
    }
   ],
   "source": [
    "name = \"han99nah\"\n",
    "\n",
    "def palindrome(word):\n",
    "    if len(word)<=1:\n",
    "        return True\n",
    "    \n",
    "    if word[0] != word[-1]:\n",
    "        return False\n",
    "    else:\n",
    "        return palindrome(word[1:-1])\n",
    "\n",
    "print(palindrome(name))"
   ]
  },
  {
   "cell_type": "markdown",
   "id": "42402865",
   "metadata": {},
   "source": [
    "### Recursive Selection Sort"
   ]
  },
  {
   "cell_type": "code",
   "execution_count": 60,
   "id": "df5cc44d",
   "metadata": {},
   "outputs": [
    {
     "name": "stdout",
     "output_type": "stream",
     "text": [
      "[0, 1, 3, 4, 5, 6, 8]\n"
     ]
    }
   ],
   "source": [
    "# [5,8,9,0,1,3] => [0, 1, 3, 5, 8, 9]\n",
    "\n",
    "def selectionSort(_list):\n",
    "    selectionSortHelper(_list, 0, len(_list)-1)\n",
    "    \n",
    "def selectionSortHelper(_list,low,high):\n",
    "    if low < high:\n",
    "        index = low\n",
    "        \n",
    "        min = _list[low]\n",
    "        index = low\n",
    "        for i in range( low+1,high+1):\n",
    "            if _list[i]<min:\n",
    "                min = _list[i]\n",
    "                index = i\n",
    "                \n",
    "        _list[low],_list[index] = _list[index],_list[low]\n",
    "\n",
    "        selectionSortHelper(_list,low+1,high)\n",
    "        \n",
    "\n",
    "test = [4,5,6,0,8,1,3]\n",
    "selectionSort(test)\n",
    "print(test)\n",
    "            "
   ]
  },
  {
   "cell_type": "markdown",
   "id": "4ca28c64",
   "metadata": {},
   "source": [
    "### Recursive Binary Search"
   ]
  },
  {
   "cell_type": "code",
   "execution_count": 82,
   "id": "7d93cfde",
   "metadata": {},
   "outputs": [
    {
     "name": "stdout",
     "output_type": "stream",
     "text": [
      "-8\n"
     ]
    }
   ],
   "source": [
    "def BinarySearch(_list, key):\n",
    "    return BinarySearchHelper(_list, key, 0, len(_list)-1)\n",
    "    \n",
    "def BinarySearchHelper(_list, key, low, high):\n",
    "    if low > high:\n",
    "        return -low -1\n",
    "    \n",
    "    mid = (low + high) // 2\n",
    "    \n",
    "    if _list[mid] == key:\n",
    "        return mid\n",
    "    elif key < _list[mid]:\n",
    "        return BinarySearchHelper(_list, key, low, mid-1)\n",
    "    elif key > _list[mid]:\n",
    "        return BinarySearchHelper(_list, key, mid+1, high)\n",
    "    \n",
    "\n",
    "\n",
    "print(BinarySearch([0, 1, 3, 4, 5, 6, 8],77))\n",
    "        "
   ]
  },
  {
   "cell_type": "code",
   "execution_count": 75,
   "id": "e3250498",
   "metadata": {},
   "outputs": [
    {
     "name": "stdout",
     "output_type": "stream",
     "text": [
      "0\n",
      "-2\n"
     ]
    }
   ],
   "source": [
    "def recursiveBinarySearch(list, key):\n",
    "    low = 0\n",
    "    high = len(list) - 1\n",
    "    return recursiveBinarySearchHelper(list, key, low, high)\n",
    "\n",
    "def recursiveBinarySearchHelper(list, key, low, high):\n",
    "    if low > high:  # The list has been exhausted without a match\n",
    "        return -low - 1\n",
    "\n",
    "    mid = (low + high) // 2\n",
    "    if key < list[mid]:\n",
    "        return recursiveBinarySearchHelper(list, key, low, mid - 1)\n",
    "    elif key == list[mid]:\n",
    "        return mid\n",
    "    else:\n",
    "        return recursiveBinarySearchHelper(list, key, mid + 1, high)\n",
    "\n",
    "def main():\n",
    "    list = [3, 5, 6, 8, 9, 12, 34, 36]\n",
    "    print(recursiveBinarySearch(list, 3))\n",
    "    print(recursiveBinarySearch(list, 4))\n",
    "\n",
    "main()\n"
   ]
  },
  {
   "cell_type": "code",
   "execution_count": null,
   "id": "ac9bb944",
   "metadata": {},
   "outputs": [],
   "source": []
  }
 ],
 "metadata": {
  "kernelspec": {
   "display_name": "Python 3 (ipykernel)",
   "language": "python",
   "name": "python3"
  },
  "language_info": {
   "codemirror_mode": {
    "name": "ipython",
    "version": 3
   },
   "file_extension": ".py",
   "mimetype": "text/x-python",
   "name": "python",
   "nbconvert_exporter": "python",
   "pygments_lexer": "ipython3",
   "version": "3.9.13"
  }
 },
 "nbformat": 4,
 "nbformat_minor": 5
}
