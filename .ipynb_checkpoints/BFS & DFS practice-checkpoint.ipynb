{
 "cells": [
  {
   "cell_type": "markdown",
   "id": "e0ca3b4d",
   "metadata": {},
   "source": [
    "### Graph Example"
   ]
  },
  {
   "cell_type": "markdown",
   "id": "0f8e9cbe",
   "metadata": {},
   "source": [
    "<img src=\"assets/img_1.png\" alt=\"example_1\" width=\"200\" height=\"50\">"
   ]
  },
  {
   "cell_type": "code",
   "execution_count": 28,
   "id": "3e52958f",
   "metadata": {},
   "outputs": [],
   "source": [
    "graph_object = {\n",
    "    '60':['41','74'],\n",
    "    '41':['16','53'],\n",
    "    '16':['25'],\n",
    "    '53':['46','55'],\n",
    "    '25':[],\n",
    "    '46':['42'],\n",
    "    '42':[],\n",
    "    '55':[],\n",
    "    '74':['65'],\n",
    "    '65':['63','70'],\n",
    "    '63':['62','64'],\n",
    "    '70':[],\n",
    "    '62':[],\n",
    "    '64':[]\n",
    "}"
   ]
  },
  {
   "cell_type": "markdown",
   "id": "02e93942",
   "metadata": {},
   "source": [
    "### BFS"
   ]
  },
  {
   "cell_type": "code",
   "execution_count": 26,
   "id": "d8cf58a8",
   "metadata": {},
   "outputs": [],
   "source": [
    "def BFS(graph, starting_node):\n",
    "    visited = []\n",
    "    active_queue = []\n",
    "    \n",
    "    active_queue.append(str(starting_node))\n",
    "#     visited.append(str(starting_node))\n",
    "    \n",
    "    while active_queue:\n",
    "        front = active_queue.pop(0)\n",
    "        if front not in visited:\n",
    "            visited.append(front)\n",
    "            print(front, end=\",\")\n",
    "\n",
    "            for x in graph[front]:\n",
    "                active_queue.append(x)"
   ]
  },
  {
   "cell_type": "code",
   "execution_count": 29,
   "id": "d165869b",
   "metadata": {},
   "outputs": [
    {
     "name": "stdout",
     "output_type": "stream",
     "text": [
      "['16', '53']\n",
      "['41', '74']\n"
     ]
    }
   ],
   "source": [
    "nummer = 60\n",
    "print(graph_object['41'])\n",
    "print(graph_object[str(nummer)])\n"
   ]
  },
  {
   "cell_type": "code",
   "execution_count": 27,
   "id": "7289e165",
   "metadata": {},
   "outputs": [
    {
     "name": "stdout",
     "output_type": "stream",
     "text": [
      "60,41,74,16,53,65,25,46,55,63,70,42,62,64,"
     ]
    }
   ],
   "source": [
    "BFS(graph_object,60)"
   ]
  },
  {
   "cell_type": "markdown",
   "id": "b9199d3a",
   "metadata": {},
   "source": [
    "### DFS"
   ]
  },
  {
   "cell_type": "code",
   "execution_count": null,
   "id": "75a8e82a",
   "metadata": {},
   "outputs": [],
   "source": []
  }
 ],
 "metadata": {
  "kernelspec": {
   "display_name": "Python 3 (ipykernel)",
   "language": "python",
   "name": "python3"
  },
  "language_info": {
   "codemirror_mode": {
    "name": "ipython",
    "version": 3
   },
   "file_extension": ".py",
   "mimetype": "text/x-python",
   "name": "python",
   "nbconvert_exporter": "python",
   "pygments_lexer": "ipython3",
   "version": "3.9.13"
  }
 },
 "nbformat": 4,
 "nbformat_minor": 5
}
