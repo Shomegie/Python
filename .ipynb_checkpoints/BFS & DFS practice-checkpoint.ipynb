{
 "cells": [
  {
   "cell_type": "markdown",
   "id": "1f6b9505",
   "metadata": {},
   "source": [
    "### Graph Example"
   ]
  },
  {
   "cell_type": "markdown",
   "id": "5d1f1ff1",
   "metadata": {},
   "source": [
    "<img src=\"assets/img_1.png\" alt=\"example_1\" width=\"200\" height=\"50\">"
   ]
  },
  {
   "cell_type": "code",
   "execution_count": 52,
   "id": "b1bdc4e7",
   "metadata": {},
   "outputs": [],
   "source": [
    "graph_object = {\n",
    "    '60':['41','74'],\n",
    "    '41':['16','53'],\n",
    "    '16':['25'],\n",
    "    '53':['46','55'],\n",
    "    '25':[],\n",
    "    '46':['42'],\n",
    "    '42':[],\n",
    "    '55':[],\n",
    "    '74':['65'],\n",
    "    '65':['63','70'],\n",
    "    '63':['62','64'],\n",
    "    '70':[],\n",
    "    '62':[],\n",
    "    '64':[]\n",
    "}"
   ]
  },
  {
   "cell_type": "markdown",
   "id": "d2f20ff7",
   "metadata": {},
   "source": [
    "### BFS"
   ]
  },
  {
   "cell_type": "code",
   "execution_count": 26,
   "id": "676b4080",
   "metadata": {},
   "outputs": [],
   "source": [
    "def BFS(graph, starting_node):\n",
    "    visited = []\n",
    "    active_queue = []\n",
    "    \n",
    "    active_queue.append(str(starting_node))\n",
    "#     visited.append(str(starting_node))\n",
    "    \n",
    "    while active_queue:\n",
    "        front = active_queue.pop(0)\n",
    "        if front not in visited:\n",
    "            visited.append(front)\n",
    "            print(front, end=\",\")\n",
    "\n",
    "            for x in graph[front]:\n",
    "                active_queue.append(x)"
   ]
  },
  {
   "cell_type": "code",
   "execution_count": 29,
   "id": "fdf7cd63",
   "metadata": {},
   "outputs": [
    {
     "name": "stdout",
     "output_type": "stream",
     "text": [
      "['16', '53']\n",
      "['41', '74']\n"
     ]
    }
   ],
   "source": [
    "nummer = 60\n",
    "print(graph_object['41'])\n",
    "print(graph_object[str(nummer)])\n"
   ]
  },
  {
   "cell_type": "code",
   "execution_count": 27,
   "id": "42aca8e7",
   "metadata": {},
   "outputs": [
    {
     "name": "stdout",
     "output_type": "stream",
     "text": [
      "60,41,74,16,53,65,25,46,55,63,70,42,62,64,"
     ]
    }
   ],
   "source": [
    "BFS(graph_object,60)"
   ]
  },
  {
   "cell_type": "markdown",
   "id": "598a68c4",
   "metadata": {},
   "source": [
    "### DFS"
   ]
  },
  {
   "cell_type": "code",
   "execution_count": 58,
   "id": "8aa26e95",
   "metadata": {},
   "outputs": [],
   "source": [
    "def DFS(graph, starting_node):\n",
    "    visited = []\n",
    "    active_stack = []\n",
    "    \n",
    "    active_stack.insert(0, str(starting_node))\n",
    "    \n",
    "    while active_stack:\n",
    "        reversed_list = []\n",
    "        front = active_stack.pop(0)\n",
    "        if graph[front] not in visited:\n",
    "            visited.append(front)\n",
    "            print(front, end=\",\")\n",
    "            \n",
    "            reversed_list = graph[front]\n",
    "            reversed_list.reverse()\n",
    "\n",
    "            for x in reversed_list:\n",
    "                active_stack.insert(0,x)"
   ]
  },
  {
   "cell_type": "code",
   "execution_count": 66,
   "id": "9d19de68",
   "metadata": {},
   "outputs": [
    {
     "name": "stdout",
     "output_type": "stream",
     "text": [
      "60,74,65,70,63,64,62,41,53,55,46,42,16,25,"
     ]
    }
   ],
   "source": [
    "DFS(graph_object,60)"
   ]
  }
 ],
 "metadata": {
  "kernelspec": {
   "display_name": "Python 3 (ipykernel)",
   "language": "python",
   "name": "python3"
  },
  "language_info": {
   "codemirror_mode": {
    "name": "ipython",
    "version": 3
   },
   "file_extension": ".py",
   "mimetype": "text/x-python",
   "name": "python",
   "nbconvert_exporter": "python",
   "pygments_lexer": "ipython3",
   "version": "3.9.13"
  }
 },
 "nbformat": 4,
 "nbformat_minor": 5
}
